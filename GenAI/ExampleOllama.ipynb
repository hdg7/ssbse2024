{
 "cells": [
  {
   "cell_type": "code",
   "execution_count": 2,
   "id": "778c947a-2397-492b-afc2-cfedc2c83a09",
   "metadata": {},
   "outputs": [],
   "source": [
    "import ollama"
   ]
  },
  {
   "cell_type": "code",
   "execution_count": 7,
   "id": "2bc77ab9-ec60-490f-b05c-f8252b497017",
   "metadata": {},
   "outputs": [
    {
     "data": {
      "text/plain": [
       "{'status': 'success'}"
      ]
     },
     "execution_count": 7,
     "metadata": {},
     "output_type": "execute_result"
    }
   ],
   "source": [
    "ollama.pull('tinyllama')"
   ]
  },
  {
   "cell_type": "code",
   "execution_count": 10,
   "id": "3f22512b-553c-4022-86b8-8145328f2643",
   "metadata": {},
   "outputs": [],
   "source": [
    "message=\"Can you, please, give me a list of good places to visit in London?\""
   ]
  },
  {
   "cell_type": "code",
   "execution_count": 11,
   "id": "805449ff-6e99-4815-aca6-0ea456fa64c0",
   "metadata": {},
   "outputs": [
    {
     "name": "stdout",
     "output_type": "stream",
     "text": [
      "Sure! Here is a list of some great places to visit in London:\n",
      "\n",
      "1. Buckingham Palace - this iconic royal palace is the home of the Queen and the site of many ceremonies, including state occasions.\n",
      "\n",
      "2. Westminster Abbey - this stunning Gothic abbey is one of the most famous churches in the world, with a rich history that includes the burial sites of royalty.\n",
      "\n",
      "3. St. Paul's Cathedral - this iconic cathedral has been the centerpiece of London for over 1000 years and offers stunning views from its upper floors.\n",
      "\n",
      "4. The British Museum - a vast collection of art, artifacts, and historical objects that date back thousands of years, including some ancient Egyptian mummies.\n",
      "\n",
      "5. Trafalgar Square - this square is home to Nelson's Column and the National Gallery, which houses famous works by famous artists like Raphael, Caravaggio, and Rembrandt.\n",
      "\n",
      "6. The Natural History Museum - this museum features exhibits on everything from dinosaurs to natural history, including the iconic Tyrannosaurus Rex skeleton.\n",
      "\n",
      "7. The Royal Observatory - located in Greenwich, this observatory is the oldest and most famous astronomical observatory in the world, with exhibits on celestial navigation and historical maps.\n",
      "\n",
      "8. The London Eye - this giant Ferris wheel offers stunning views of the city, including the Tower Bridge, Buckingham Palace, and St. Paul's Cathedral.\n",
      "\n",
      "9. The Houses of Parliament and Westminster Abbey - these historic buildings are home to both the House of Lords and the House of Commons, making them a popular destination for tourists.\n",
      "\n",
      "10. The London Dungeon - this interactive museum offers scary stories and gruesome facts about history's most notorious criminals and villains, including Jack the Ripper and the Black Death.\n"
     ]
    }
   ],
   "source": [
    "response = ollama.chat(model='tinyllama', messages = [\n",
    "        {\n",
    "            'role' : 'user',\n",
    "            'content': message,\n",
    "        },\n",
    "    ])\n",
    "print(response['message']['content'])"
   ]
  }
 ],
 "metadata": {
  "kernelspec": {
   "display_name": "Python 3 (ipykernel)",
   "language": "python",
   "name": "python3"
  },
  "language_info": {
   "codemirror_mode": {
    "name": "ipython",
    "version": 3
   },
   "file_extension": ".py",
   "mimetype": "text/x-python",
   "name": "python",
   "nbconvert_exporter": "python",
   "pygments_lexer": "ipython3",
   "version": "3.11.2"
  }
 },
 "nbformat": 4,
 "nbformat_minor": 5
}
